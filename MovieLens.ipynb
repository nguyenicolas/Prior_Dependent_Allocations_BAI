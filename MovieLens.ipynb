{
 "cells": [
  {
   "cell_type": "markdown",
   "metadata": {
    "cellView": "form",
    "colab": {
     "base_uri": "https://localhost:8080/"
    },
    "executionInfo": {
     "elapsed": 364,
     "status": "ok",
     "timestamp": 1652373079763,
     "user": {
      "displayName": "Imad Aouali",
      "userId": "10957666911602104909"
     },
     "user_tz": 240
    },
    "id": "dUrLMhAcZYDY",
    "outputId": "e7637e0a-2d44-4760-e4d6-bcbb43502924",
    "tags": []
   },
   "source": [
    "# Notebook for Bayesian Best-Arm Idenfitication"
   ]
  },
  {
   "cell_type": "markdown",
   "metadata": {},
   "source": [
    "### Libraries"
   ]
  },
  {
   "cell_type": "code",
   "execution_count": 1,
   "metadata": {
    "tags": []
   },
   "outputs": [
    {
     "name": "stdout",
     "output_type": "stream",
     "text": [
      "python 3.9.13\n",
      "matplotlib 3.5.2\n",
      "8 joblib cores\n"
     ]
    }
   ],
   "source": [
    "# Imports and defaults\n",
    "import itertools\n",
    "import joblib\n",
    "from joblib import Parallel, delayed\n",
    "import matplotlib as mpl\n",
    "import matplotlib.pyplot as plt\n",
    "import numpy as np\n",
    "from scipy.linalg import block_diag\n",
    "import scipy.optimize as spo\n",
    "from scipy import optimize\n",
    "import time\n",
    "from collections import defaultdict\n",
    "import random\n",
    "from numpy.linalg import pinv\n",
    "from tqdm.auto import tqdm\n",
    "\n",
    "mpl.style.use(\"classic\")\n",
    "mpl.rcParams[\"figure.figsize\"] = [5, 3]\n",
    "\n",
    "mpl.rcParams[\"axes.linewidth\"] = 0.75\n",
    "mpl.rcParams[\"figure.facecolor\"] = \"w\"\n",
    "mpl.rcParams[\"grid.linewidth\"] = 0.75\n",
    "mpl.rcParams[\"lines.linewidth\"] = 0.75\n",
    "mpl.rcParams[\"patch.linewidth\"] = 0.75\n",
    "mpl.rcParams[\"xtick.major.size\"] = 3\n",
    "mpl.rcParams[\"ytick.major.size\"] = 3\n",
    "\n",
    "mpl.rcParams[\"pdf.fonttype\"] = 42\n",
    "mpl.rcParams[\"ps.fonttype\"] = 42\n",
    "mpl.rcParams[\"font.size\"] = 9\n",
    "mpl.rcParams[\"axes.titlesize\"] = \"medium\"\n",
    "mpl.rcParams[\"legend.fontsize\"] = \"medium\"\n",
    "\n",
    "import platform\n",
    "print(\"python %s\" % platform.python_version())\n",
    "print(\"matplotlib %s\" % mpl.__version__)\n",
    "print(\"%d joblib cores\" % joblib.cpu_count())\n",
    "\n",
    "def linestyle2dashes(style):\n",
    "  if style == \"--\":\n",
    "    return (3, 3)\n",
    "  elif style == \":\":\n",
    "    return (0.5, 2.5)\n",
    "  else:\n",
    "    return (None, None)\n",
    "\n",
    "np.random.seed(0)\n",
    "random.seed(0)"
   ]
  },
  {
   "cell_type": "markdown",
   "metadata": {},
   "source": [
    "### Useful Functions"
   ]
  },
  {
   "cell_type": "code",
   "execution_count": 2,
   "metadata": {
    "tags": []
   },
   "outputs": [],
   "source": [
    "def norm2_matrix(x, A) :\n",
    "    return x.T @ A @ x\n",
    "\n",
    "def fac_compute_Sigma_hat_n(n, omega, A, Sigma_0_inv):\n",
    "    sum_ = A.T.dot(n * omega[:, None] * A)\n",
    "    return np.linalg.inv(Sigma_0_inv + sum_)\n",
    "\n",
    "def fac_Cova_hat_mu_n(sigma, omega, Sigma_0, A, Sigma_hat_n, n):\n",
    "    K, d = A.shape\n",
    "    \n",
    "    helper_ = n * omega * (sigma**2 + np.sum(A.dot(Sigma_0) * A, axis=1))\n",
    "    variance_terms = A.T.dot(helper_[:, None] * A)\n",
    "    \n",
    "    helper1 = np.outer(n*omega, n*omega)\n",
    "    helper2 = A.dot(Sigma_0)\n",
    "    helper2 = A.dot(helper2.T)\n",
    "    helper12 = helper1 * helper2\n",
    "\n",
    "    A_flatten = A.flatten().reshape(-1, 1)\n",
    "    outer_products = A_flatten.dot(A_flatten.T)\n",
    "    outer_products = outer_products.reshape(K, d, K, d)\n",
    "    outer_products = outer_products.swapaxes(1, 2)\n",
    "    weighted_outer_products = helper12[:, :, None, None] * outer_products\n",
    "    covariance_terms = np.sum(weighted_outer_products, axis=(0, 1)) - np.trace(weighted_outer_products, axis1=0, axis2=1)\n",
    "    \n",
    "    Cova_hat_mu_n_result = (1/sigma**4) * np.dot(np.dot(Sigma_hat_n, variance_terms + covariance_terms), Sigma_hat_n)\n",
    "    \n",
    "    return Cova_hat_mu_n_result\n",
    "\n",
    "\n",
    "def fac_kappa(A, mu_0, Cov_hat_mu_n, m):\n",
    "    K, _ = A.shape\n",
    "    diff_Aj_Am = A - A[m]\n",
    "    results = np.zeros(K)\n",
    "    outer_products = np.einsum('ij,ik->ijk', diff_Aj_Am, diff_Aj_Am)\n",
    "    weighted_mu_0 = np.einsum('ijk,k->ij', outer_products, mu_0)\n",
    "    norm_mu_0 = np.einsum('ik,k->i', weighted_mu_0, mu_0)\n",
    "    weighted_diff_Aj_Am = diff_Aj_Am.dot(Cov_hat_mu_n) \n",
    "    norm_diff_Aj_Am = np.einsum('ik,ik->i', weighted_diff_Aj_Am, diff_Aj_Am)\n",
    "    norm_diff_Aj_Am[m] = 1e-50 #To avoid dividing by 0\n",
    "    results = np.exp(-norm_mu_0 / norm_diff_Aj_Am) \n",
    "    results[m] = 1\n",
    "    return results\n",
    "\n",
    "\n",
    "def fac_upper_bound_linear(omega, sigma, mu_0, Sigma_0, A, n):\n",
    "    K, d = A.shape\n",
    "    result = 0\n",
    "    Sigma_0_inv = np.linalg.inv(Sigma_0)\n",
    "    m = np.argmax(mu_0)\n",
    "    \n",
    "    Sigma_hat_n = fac_compute_Sigma_hat_n(n, omega, A, Sigma_0_inv)\n",
    "    Cov_hat_mu_n = fac_Cova_hat_mu_n(sigma, omega, Sigma_0, A, Sigma_hat_n, n)   \n",
    "    \n",
    "    ### Computing Lambda_val\n",
    "    diff_matrix = A[:, np.newaxis] - A\n",
    "    \n",
    "    weighted_diff_matrix1 = diff_matrix.dot(Sigma_hat_n)\n",
    "    norm_diff_Ai_Aj_Sigma = np.einsum('ijk,ijk->ij', weighted_diff_matrix1, diff_matrix)\n",
    "\n",
    "    weighted_diff_matrix2 = diff_matrix.dot(Cov_hat_mu_n)\n",
    "    norm_diff_Ai_Aj_Cova = np.einsum('ijk,ijk->ij', weighted_diff_matrix2, diff_matrix)\n",
    "    \n",
    "    weighted_diff_matrix3 = diff_matrix.dot(Sigma_0)\n",
    "    norm_diff_Ai_Aj_Sigma_0 = np.einsum('ijk,ijk->ij', weighted_diff_matrix3, diff_matrix)\n",
    "\n",
    "    weighted_outer_products = np.einsum('ijk,ijl->ijkl', weighted_diff_matrix2, diff_matrix)\n",
    "    weighted_outer_products = weighted_outer_products/(2*norm_diff_Ai_Aj_Sigma_0[:,:,None,None]+1e-50) #Check how to handle Nan issues using helper_stabilizer \n",
    "    #helper_stabilizer = np.tile(1e-30*np.eye(d), (K, K, 1, 1)) #Check how to handle Nan issues using helper_stabilizer\n",
    "\n",
    "    term = np.tile(np.eye(d), (K, K, 1, 1)) - weighted_outer_products\n",
    "    Lambda_val = np.einsum('ik,nmkj->nmij', np.linalg.inv(Cov_hat_mu_n), term)\n",
    "    \n",
    "    term1 =1 / np.sqrt(1 + (norm_diff_Ai_Aj_Cova / (norm_diff_Ai_Aj_Sigma + 1e-50)))\n",
    "    weighted_mu_0 = Lambda_val.dot(mu_0)\n",
    "    norm_mu_0 = np.einsum('ijk,k->ij', weighted_mu_0, mu_0)\n",
    "    term2 = np.exp(-0.5 * norm_mu_0)\n",
    "    result = term1 * term2\n",
    "\n",
    "    return np.sum(result) - np.trace(result)\n",
    "\n",
    "def adjust_multi(w):\n",
    "  w_new = np.asarray(w).astype('float64')\n",
    "  return w_new / np.sum(w_new)\n",
    "\n",
    "\n",
    "def compute_w_opt_one(cons, bounds, sigma, mu_0, Sigma_0, action_matrix, n, alpha) :\n",
    "    \n",
    "    K, _ = np.shape(action_matrix)\n",
    "    marginal_variances =  np.array([action_matrix[i].T @ Sigma_0 @ action_matrix[i] for i in range(K)]) \n",
    "    \n",
    "    p_start = np.random.random(K) \n",
    "    p_start = p_start / np.sum(p_start)\n",
    "    cons = [({'type':'eq', 'fun': lambda p: np.linalg.norm(p, 1) - 1})]\n",
    "    bounds = tuple([(0, 1) for _ in range(K)])\n",
    "    w_opt = optimize.minimize(fac_upper_bound_linear, p_start, args=(sigma, mu_0, Sigma_0, action_matrix, n), bounds=bounds, constraints=cons).x\n",
    "\n",
    "    w_tilde_tmp =  np.array([mu_0 @ action_matrix[i] for i in range(K)]) * marginal_variances / np.sum(marginal_variances)\n",
    "    w_tilde = w_tilde_tmp / np.sum(w_tilde_tmp)\n",
    "\n",
    "    tmp_w_mix = alpha * w_opt + (1 - alpha) * w_tilde \n",
    "    w = tmp_w_mix / np.sum(tmp_w_mix)\n",
    "\n",
    "    return w\n",
    "\n",
    "def compute_w_opt(sigma, mu_0, Sigma_0, action_matrix, n, alpha, num_MC=50) :\n",
    "   \n",
    "   cons = [({'type':'eq', 'fun': lambda p: np.linalg.norm(p, 1) - 1})]\n",
    "   bounds = tuple([(0, 1) for _ in range(K)])\n",
    "   \n",
    "   w_opt_matrix = Parallel(n_jobs=-1)(delayed(compute_w_opt_one)(cons, bounds, sigma, mu_0, Sigma_0, action_matrix, n, alpha) for ex in tqdm(range(num_MC)))\n",
    "   w_opt_final = w_opt_matrix[np.argmin([fac_upper_bound_linear(omega, sigma, mu_0, Sigma_0, action_matrix, n) for omega in w_opt_matrix])]\n",
    "   return adjust_multi(w_opt_final)\n",
    "\n",
    "def generate_random_action_matrix_gaussian(K, d) :\n",
    "    action_matrix = np.zeros((K, d))\n",
    "    for i in range(K) :\n",
    "        random_vect = np.random.multivariate_normal(np.ones(d), np.eye(d))\n",
    "        action_matrix[i] = random_vect / np.linalg.norm(random_vect, 1)\n",
    "    return action_matrix\n",
    "\n",
    "def objective_func(pi, n, K, action_matrix, Sigma_0_inv, sigma) :\n",
    "    somme_helper = 0\n",
    "    for i in range(K) :\n",
    "        somme_helper+= pi[i] * n * np.outer(action_matrix[i], action_matrix[i])\n",
    "    s, logdet = np.linalg.slogdet(Sigma_0_inv + somme_helper/(sigma**2))\n",
    "    return - s * logdet\n",
    "\n",
    "\n",
    "def BG_opt(n, K, action_matrix, Sigma_0_inv, sigma, num_mc = 10) :\n",
    "\n",
    "    values = np.zeros(num_mc)\n",
    "    vectors = np.zeros((num_mc, K))\n",
    "\n",
    "    p_start = np.random.random(K)  #TODO: play with initialization\n",
    "    p_start = p_start / np.sum(p_start)\n",
    "    cons = [({'type':'eq', 'fun': lambda p: np.linalg.norm(p, 1) - 1})]\n",
    "    bounds = tuple([(0, 1) for _ in range(K)])\n",
    "\n",
    "    for i in range(num_mc) :\n",
    "        p_start = np.random.random(K)  #TODO: play with initialization\n",
    "        p_start = p_start / np.sum(p_start)\n",
    "        result = optimize.minimize(objective_func, p_start, args=(n, K, action_matrix, Sigma_0_inv, sigma), bounds=bounds, constraints=cons)\n",
    "        w_opt = result.x\n",
    "        values[i] = result.fun\n",
    "        vectors[i, :] = w_opt\n",
    "\n",
    "    w_opt = vectors[np.argmin(values), :]\n",
    "    return w_opt"
   ]
  },
  {
   "cell_type": "markdown",
   "metadata": {},
   "source": [
    "### Bandit Environment "
   ]
  },
  {
   "cell_type": "code",
   "execution_count": 4,
   "metadata": {
    "cellView": "form",
    "id": "f7uZWkUjRmUs",
    "tags": []
   },
   "outputs": [],
   "source": [
    "# Bandit environments\n",
    "class LinearBanditEnvironment(object):\n",
    "  \"\"\"Contextual bandit with K arms.\"\"\"\n",
    "\n",
    "  def __init__(self, actions_matrix, theta, sigma):\n",
    "    self.actions_matrix = actions_matrix\n",
    "    self.K, self.d = np.shape(self.actions_matrix)  # number of arms\n",
    "    self.theta = np.copy(theta)  # list of reward means\n",
    "    self.sigma = sigma  # reward noise\n",
    "    self.best_arm = np.argmax([self.theta @ action for action in actions_matrix])\n",
    "    #self.randomize()\n",
    "\n",
    "  #def randomize(self):\n",
    "  #  self.rt = self.theta + self.sigma * np.random.randn(self.K)\n",
    "\n",
    "  def reward(self, arm_index):\n",
    "    # instantaneous reward of the arm\n",
    "    return self.actions_matrix[arm_index].T @ self.theta + self.sigma * np.random.randn()\n",
    "\n",
    "  def print(self):\n",
    "    return \"Bandit Environment: %d arms\" % (self.K)\n",
    "\n",
    "def evaluate_one(Alg, env, n):\n",
    "  \"\"\"One run of a bandit algorithm.\"\"\"\n",
    "  alg = Alg(env, n)\n",
    "  alg.explore(n)\n",
    "  J_n = alg.get_best_arm()\n",
    "  return 1 * (J_n != env.best_arm)\n",
    "\n",
    "\n",
    "def evaluate(Alg, env, n, printout=False):\n",
    "  \"\"\"Multiple runs of a bandit algorithm.\"\"\"\n",
    "  start = time.time()\n",
    "  num_exps = len(env)\n",
    "  error_indicators = Parallel(n_jobs=-1)(delayed(evaluate_one)(Alg, env[ex], n) for ex in range(num_exps))\n",
    "  error_indicators = np.array(error_indicators)\n",
    "  error_prob = np.mean(error_indicators)\n",
    "\n",
    "  if printout:\n",
    "    print(\"Evaluating %s\" % Alg.print(), end=\"\")\n",
    "    print(\" %.1f seconds\" % (time.time() - start))\n",
    "    print(\"Probability of error: %.2f +/- %.2f\" %(np.mean(error_indicators), np.std(error_indicators) / np.sqrt(num_exps)))\n",
    "\n",
    "  return error_prob, error_indicators"
   ]
  },
  {
   "cell_type": "code",
   "execution_count": 5,
   "metadata": {
    "tags": []
   },
   "outputs": [],
   "source": [
    "def evaluate_one_sr(Alg, env, n):\n",
    "  \"\"\"One run of a bandit algorithm.\"\"\"\n",
    "  alg = Alg(env, n)\n",
    "  alg.explore(n)\n",
    "  J_n = alg.get_best_arm()\n",
    "  return env.theta.dot(env.actions_matrix[env.best_arm]) - env.theta.dot(env.actions_matrix[J_n])\n",
    "\n",
    "\n",
    "def evaluate_sr(Alg, env, n, printout=False):\n",
    "  \"\"\"Multiple runs of a bandit algorithm.\"\"\"\n",
    "  start = time.time()\n",
    "  num_exps = len(env)\n",
    "  error_indicators = Parallel(n_jobs=-1)(delayed(evaluate_one_sr)(Alg, env[ex], n) for ex in range(num_exps))\n",
    "  error_indicators = np.array(error_indicators)\n",
    "  error_prob = np.mean(error_indicators)\n",
    "\n",
    "  if printout:\n",
    "    print(\"Evaluating %s\" % Alg.print(), end=\"\")\n",
    "    print(\" %.1f seconds\" % (time.time() - start))\n",
    "    print(\"Probability of error: %.2f +/- %.2f\" %(np.mean(error_indicators), np.std(error_indicators) / np.sqrt(num_exps)))\n",
    "\n",
    "  return error_prob, error_indicators"
   ]
  },
  {
   "cell_type": "markdown",
   "metadata": {},
   "source": [
    "### BAI Algorithms "
   ]
  },
  {
   "cell_type": "code",
   "execution_count": 6,
   "metadata": {
    "tags": []
   },
   "outputs": [],
   "source": [
    "# BAI algorithm that assumes that sigma_0 is the same for all arms and allocates n_i = n//K for each arm\n",
    "class BAIUniform:\n",
    "  def __init__(self, env, n):\n",
    "    self.env = env  # bandit environment that the agent interacts with\n",
    "    self.actions_matrix = self.env.actions_matrix  # number of arms\n",
    "    self.K, self.d = np.shape(self.actions_matrix)\n",
    "    self.n = n  # budget\n",
    "    self.mu_0 = np.copy(env.mu_0)  # list of prior means \\mu_{0, i} for i=1,..., K\n",
    "    self.Sigma_0 = np.copy(env.Sigma_0)  # list of prior standard deviations \\sigma_{0, i} for i=1,..., K\n",
    "    self.Sigma_0_inv = np.copy(env.Sigma_0_inv)\n",
    "    self.sigma = env.sigma  # reward noise\n",
    "\n",
    "    # sufficient statistics\n",
    "    self.B = np.zeros(self.d) # sum of observed rewards for each arm\n",
    "    self.n_i = np.zeros(self.K) # n_i is a list containing the number of pulls of each arm\n",
    "\n",
    "  def update(self, arm, r):\n",
    "    # update sufficient statistics\n",
    "    self.B += r * self.actions_matrix[arm]\n",
    "    self.n_i[arm] += 1\n",
    "    \n",
    "  def explore(self, n):\n",
    "    # explore actions\n",
    "    for i in range(self.K):\n",
    "        for t in range(self.n//self.K):\n",
    "            #self.env.randomize()\n",
    "            # update statistics\n",
    "            self.update(i, self.env.reward(i))\n",
    "  \n",
    "  def get_best_arm(self):\n",
    "    # compute posterior means\n",
    "    self.mu = np.zeros(self.K)\n",
    "    # arm parameter posterior\n",
    "    somme_helper = 0\n",
    "    for i in range(self.K) :\n",
    "       somme_helper+= self.n_i[i] * np.outer(self.actions_matrix[i], self.actions_matrix[i])\n",
    "       \n",
    "    Sigma_hat_helper = self.Sigma_0_inv + somme_helper / self.sigma**2\n",
    "    sigma_hat_square = np.linalg.inv(Sigma_hat_helper) \n",
    "    self.mu = sigma_hat_square @ ( self.Sigma_0_inv @ self.mu_0 + self.B / self.sigma**2 )\n",
    "    arm = np.argmax([self.mu.T @ self.actions_matrix[i] for i in range(self.K)])\n",
    "    #print(\"list pulls = \", self.n_i)\n",
    "    #print(\"somme = \", np.sum(self.n_i))\n",
    "    return arm\n",
    "\n",
    "  @staticmethod\n",
    "  def print():\n",
    "    return \"BAI-Uni\""
   ]
  },
  {
   "cell_type": "code",
   "execution_count": 7,
   "metadata": {
    "tags": []
   },
   "outputs": [],
   "source": [
    "# BAI algorithm that assumes that sigma_0 is the same for all arms and allocates n_i = n//K for each arm\n",
    "class BAIOpt:\n",
    "  def __init__(self, env, n):\n",
    "    self.env = env  # bandit environment that the agent interacts with\n",
    "    self.actions_matrix = self.env.actions_matrix  # number of arms\n",
    "    self.K, self.d = np.shape(self.actions_matrix)\n",
    "    self.n = n  # budget\n",
    "    self.mu_0 = np.copy(env.mu_0)  # list of prior means \\mu_{0, i} for i=1,..., K\n",
    "    self.Sigma_0 = np.copy(env.Sigma_0)  # list of prior standard deviations \\sigma_{0, i} for i=1,..., K\n",
    "    self.Sigma_0_inv = np.copy(env.Sigma_0_inv)\n",
    "    self.sigma = env.sigma  # reward noise\n",
    "    self.w_optim = self.env.w_optim\n",
    "    self.n_samples = np.random.multinomial(self.n, self.w_optim)\n",
    "\n",
    "    # sufficient statistics\n",
    "    self.B = np.zeros(self.d) # sum of observed rewards for each arm\n",
    "    self.n_i = np.zeros(self.K) # n_i is a list containing the number of pulls of each arm\n",
    "\n",
    "  def update(self, arm, r):\n",
    "    # update sufficient statistics\n",
    "    self.B += r * self.actions_matrix[arm]\n",
    "    self.n_i[arm] += 1\n",
    "    \n",
    "  def explore(self, n):\n",
    "    # explore actions\n",
    "    for i in range(self.K):\n",
    "        for t in range(self.n_samples[i]):\n",
    "            #self.env.randomize()\n",
    "            # update statistics\n",
    "            self.update(i, self.env.reward(i))\n",
    "  \n",
    "  def get_best_arm(self):\n",
    "    # compute posterior means\n",
    "    self.mu = np.zeros(self.K)\n",
    "    # arm parameter posterior\n",
    "    somme_helper = 0\n",
    "    for i in range(self.K) :\n",
    "       somme_helper+= self.n_i[i] * np.outer(self.actions_matrix[i], self.actions_matrix[i])\n",
    "       \n",
    "    Sigma_hat_helper = self.Sigma_0_inv + somme_helper / self.sigma**2\n",
    "    sigma_hat_square = np.linalg.inv(Sigma_hat_helper) \n",
    "    self.mu = sigma_hat_square @ ( self.Sigma_0_inv @ self.mu_0 + self.B / self.sigma**2 )\n",
    "    arm = np.argmax([self.mu.T @ self.actions_matrix[i] for i in range(self.K)])\n",
    "    #print(\"list pulls = \", self.n_i)\n",
    "    #print(\"somme = \", np.sum(self.n_i))\n",
    "    return arm\n",
    "\n",
    "  @staticmethod\n",
    "  def print():\n",
    "    return \"BAI-Opt\""
   ]
  },
  {
   "cell_type": "code",
   "execution_count": 8,
   "metadata": {
    "tags": []
   },
   "outputs": [],
   "source": [
    "# BAI algorithm that assumes that sigma_0 is the same for all arms and allocates n_i = n//K for each arm\n",
    "class BAIOptimalDesign:\n",
    "  def __init__(self, env, n):\n",
    "    self.env = env  # bandit environment that the agent interacts with\n",
    "    self.actions_matrix = self.env.actions_matrix  # number of arms\n",
    "    self.K, self.d = np.shape(self.actions_matrix)\n",
    "    self.n = n  # budget\n",
    "    self.mu_0 = np.copy(env.mu_0)  # list of prior means \\mu_{0, i} for i=1,..., K\n",
    "    self.Sigma_0 = np.copy(env.Sigma_0)  # list of prior standard deviations \\sigma_{0, i} for i=1,..., K\n",
    "    self.Sigma_0_inv = np.copy(env.Sigma_0_inv)\n",
    "    self.sigma = self.env.sigma  # reward noise\n",
    "    self.w_optimal_design = self.env.w_optimal_design\n",
    "    self.n_samples = np.random.multinomial(self.n, self.w_optimal_design)\n",
    "\n",
    "    # sufficient statistics\n",
    "    self.B = np.zeros(self.d) # sum of observed rewards for each arm\n",
    "    self.n_i = np.zeros(self.K) # n_i is a list containing the number of pulls of each arm\n",
    "\n",
    "  def update(self, arm, r):\n",
    "    # update sufficient statistics\n",
    "    self.B += r * self.actions_matrix[arm]\n",
    "    self.n_i[arm] += 1\n",
    "    \n",
    "  def explore(self, n):\n",
    "    # explore actions\n",
    "    for i in range(self.K):\n",
    "        for t in range(self.n_samples[i]):\n",
    "            #self.env.randomize()\n",
    "            # update statistics\n",
    "            self.update(i, self.env.reward(i))\n",
    "  \n",
    "  def get_best_arm(self):\n",
    "    # compute posterior means\n",
    "    self.mu = np.zeros(self.K)\n",
    "    # arm parameter posterior\n",
    "    somme_helper = 0\n",
    "    for i in range(self.K) :\n",
    "       somme_helper+= self.n_i[i] * np.outer(self.actions_matrix[i], self.actions_matrix[i])\n",
    "       \n",
    "    Sigma_hat_helper = self.Sigma_0_inv + somme_helper / self.sigma**2\n",
    "    sigma_hat_square = np.linalg.inv(Sigma_hat_helper) \n",
    "    self.mu = sigma_hat_square @ ( self.Sigma_0_inv @ self.mu_0 + self.B / self.sigma**2 )\n",
    "    arm = np.argmax([self.mu.T @ self.actions_matrix[i] for i in range(self.K)])\n",
    "    #print(\"list pulls = \", self.n_i)\n",
    "    #print(\"somme = \", np.sum(self.n_i))\n",
    "    return arm\n",
    "\n",
    "  @staticmethod\n",
    "  def print():\n",
    "    return \"BAI-Opt-design\""
   ]
  },
  {
   "cell_type": "code",
   "execution_count": 9,
   "metadata": {
    "tags": []
   },
   "outputs": [],
   "source": [
    "# BAI algorithm that assumes that sigma_0 is the same for all arms and allocates n_i = n//K for each arm\n",
    "class AdaBAIRandom:\n",
    "  def __init__(self, env, n):\n",
    "    self.env = env  # bandit environment that the agent interacts with\n",
    "    self.actions_matrix = self.env.actions_matrix  # number of arms\n",
    "    self.K, self.d = np.shape(self.actions_matrix)\n",
    "    self.n = n  # budget\n",
    "    self.mu_0 = np.copy(env.mu_0)  # list of prior means \\mu_{0, i} for i=1,..., K\n",
    "    self.Sigma_0 = np.copy(env.Sigma_0)  # list of prior standard deviations \\sigma_{0, i} for i=1,..., K\n",
    "    self.Sigma_0_inv = np.copy(env.Sigma_0_inv)\n",
    "    self.sigma = self.env.sigma  # reward noise\n",
    "    self.w_rd = self.env.w_rd\n",
    "    self.n_samples = np.random.multinomial(self.n, self.w_rd)\n",
    "\n",
    "    # sufficient statistics\n",
    "    self.B = np.zeros(self.d) # sum of observed rewards for each arm\n",
    "    self.n_i = np.zeros(self.K) # n_i is a list containing the number of pulls of each arm\n",
    "\n",
    "\n",
    "  def update(self, arm, r):\n",
    "    # update sufficient statistics\n",
    "    self.B += r * self.actions_matrix[arm]\n",
    "    self.n_i[arm] += 1\n",
    "    \n",
    "  def explore(self, n):\n",
    "    # explore actions\n",
    "    for i in range(self.K):\n",
    "        for t in range(self.n_samples[i]):\n",
    "            #self.env.randomize()\n",
    "            # update statistics\n",
    "            self.update(i, self.env.reward(i))\n",
    "  \n",
    "  def get_best_arm(self):\n",
    "    # compute posterior means\n",
    "    self.mu = np.zeros(self.K)\n",
    "    # arm parameter posterior\n",
    "    somme_helper = 0\n",
    "    for i in range(self.K) :\n",
    "       somme_helper+= self.n_i[i] * np.outer(self.actions_matrix[i], self.actions_matrix[i])\n",
    "       \n",
    "    Sigma_hat_helper = self.Sigma_0_inv + somme_helper / self.sigma**2\n",
    "    sigma_hat_square = np.linalg.inv(Sigma_hat_helper) \n",
    "    self.mu = sigma_hat_square @ ( self.Sigma_0_inv @ self.mu_0 + self.B / self.sigma**2 )\n",
    "    arm = np.argmax([self.mu.T @ self.actions_matrix[i] for i in range(self.K)])\n",
    "    #print(\"list pulls = \", self.n_i)\n",
    "    #print(\"somme = \", np.sum(self.n_i))\n",
    "    return arm\n",
    "\n",
    "  @staticmethod\n",
    "  def print():\n",
    "    return \"AdaBAI-Random\""
   ]
  },
  {
   "cell_type": "code",
   "execution_count": 10,
   "metadata": {},
   "outputs": [],
   "source": [
    "# BAI algorithm with different values of sigma_{0, i} and that learns the allocations n_i by optimizing the bound C_bayes\n",
    "class GSE:\n",
    "  \n",
    "  def __init__(self, env, n):\n",
    "    self.env = env  # bandit environment that the agent interacts with\n",
    "    self.n = n  # budget\n",
    "    self.nb_rounds = int(np.ceil(np.log(env.d) / np.log(2)))\n",
    "    self.budget_per_round = int(np.ceil(n / self.nb_rounds))\n",
    "\n",
    "    self.actions_matrix = env.actions_matrix # active set of arms\n",
    "    self.active_arms_index = np.arange(env.K) \n",
    "    self.active_arms_vector = np.copy(self.actions_matrix)[self.active_arms_index]\n",
    "\n",
    "  def update(self, k, r, last_bool):\n",
    "    # last_bool = True when this is the last round of the phase\n",
    "\n",
    "    # update V_t and b_t :\n",
    "    if last_bool == False :\n",
    "      self.V+= np.outer(self.actions_matrix[k], self.actions_matrix[k])\n",
    "      self.b+= self.actions_matrix[k] * r\n",
    "\n",
    "    # update theta at the end of the round, and eliminate bad arms\n",
    "    else :\n",
    "      self.mu = dict.fromkeys(self.active_arms_index, 0) # restart estimator of mu\n",
    "      \n",
    "      # compute estimate of theta\n",
    "      self.theta = pinv(self.V) @ self.b\n",
    "\n",
    "      # compute rmean estimates\n",
    "      for k in self.active_arms_index :\n",
    "         self.mu[k] = self.theta @ self.actions_matrix[k]\n",
    "      \n",
    "      # get new active set\n",
    "      self.mu_sorted = {k: v for k, v in sorted(self.mu.items(), key=lambda item: item[1])} #np.argsort(self.mu)[len(self.active_arms_index):]\n",
    "\n",
    "      # eliminate half of arms\n",
    "      active_arms_index_new = list(self.mu_sorted.keys())[len(self.active_arms_index)//2:]\n",
    "      self.active_arms_index = active_arms_index_new\n",
    "      # store associated arm vectors\n",
    "      self.active_arms_vector = np.copy(self.actions_matrix)[self.active_arms_index, :]\n",
    "      \n",
    "  def explore(self, n):\n",
    "\n",
    "    for r in range(self.nb_rounds) :# for each round\n",
    "\n",
    "      # draft observations from previous rounds\n",
    "      self.V = 0\n",
    "      self.b = 0\n",
    "\n",
    "      # explore using G-optimal design\n",
    "      pi_r = self.optimal_design()\n",
    "\n",
    "      n_samples = np.random.multinomial(self.budget_per_round, pi_r)\n",
    "\n",
    "      for cpt, k in enumerate(self.active_arms_index) : # for all arm in the active set\n",
    "        for i in range(n_samples[cpt]) : # pull this arm according to G-opt\n",
    "          r = self.env.reward(k)\n",
    "          self.update(k, r, last_bool=False)\n",
    "\n",
    "      self.update(None, None, last_bool=True)\n",
    "    \n",
    "  def get_best_arm(self):\n",
    "\n",
    "    # return the only arm that belongs to active set\n",
    "    return max(self.mu_sorted, key=self.mu_sorted.get) # return the last item if there is one element, else the maximum (if there was not enough budget to run additional rounds)\n",
    "\n",
    "  def optimal_design(self):\n",
    "      # This function is from https://github.com/Azizimj/StructuredBAI/blob/main/optDesign.py\n",
    "      cur_num_arms = (self.active_arms_vector).shape[0]\n",
    "      \"\"\"Frank Wolfe\"\"\"\n",
    "      pi = np.ones(cur_num_arms) / cur_num_arms  # pi_0 in Frank Wolfe\n",
    "      X_copy = [a.reshape(self.env.d, 1) for a in self.active_arms_vector]\n",
    "      eps = 1e-1\n",
    "      lambda_ = .001\n",
    "      gpi_k = float('inf')\n",
    "      k = 0\n",
    "\n",
    "      while gpi_k > self.env.d + eps and k<100:\n",
    "          k += 1\n",
    "          Vpi_k = lambda_ * np.eye(self.env.d)\n",
    "          for i, a in enumerate(X_copy):\n",
    "              Vpi_k += pi[i] * np.dot(a, a.T)\n",
    "          # Vpi_k = np.matrix.sum([pi[i] * a * a.T for i, a in enumerate(X)])\n",
    "          Vpi_k = np.linalg.inv(Vpi_k)\n",
    "          a_Vpi = [np.dot(np.dot(a.T, Vpi_k), a) for a in X_copy]\n",
    "          a_k_idx = np.argmax(a_Vpi)\n",
    "          gpi_k = a_Vpi[a_k_idx]\n",
    "          a_k = X_copy[a_k_idx]\n",
    "          gamma_ = ((1 / self.env.d * gpi_k - 1) / (gpi_k - 1))[0][0]\n",
    "          pi *= (1 - gamma_)\n",
    "          pi[a_k_idx] += gamma_\n",
    "      # print(k)\n",
    "      pi_sum = np.sum(pi)\n",
    "      if pi_sum != 1:\n",
    "          # rnd_idx = np.random.randint(0, num_arms)\n",
    "          rnd_idx = np.argmax(pi)\n",
    "          pi[rnd_idx] = 1 - pi_sum + pi[rnd_idx]\n",
    "      return np.array(pi)\n",
    "\n",
    "  @staticmethod\n",
    "  def print():\n",
    "    return \"GSE\""
   ]
  },
  {
   "cell_type": "code",
   "execution_count": 13,
   "metadata": {
    "tags": []
   },
   "outputs": [],
   "source": [
    "# Thompson sampling algorithms that are only used to estimate the best allocations n_i\n",
    "class LinTS:\n",
    "  \n",
    "  def __init__(self, env, n):\n",
    "    self.env = env  # bandit environment that the agent interacts with\n",
    "    self.actions_matrix = self.env.actions_matrix\n",
    "    self.K, self.d = np.shape(self.actions_matrix)  # number of arms\n",
    "    self.n = n  # budget\n",
    "    self.mu_0 = np.copy(env.mu_0)  # list of prior means \\mu_{0, i} for i=1,..., K\n",
    "    self.Sigma_0 = np.copy(env.Sigma_0)  # list of prior standard deviations \\sigma_{0, i} for i=1,..., K\n",
    "    self.Sigma_0_inv = np.copy(env.Sigma_0_inv)\n",
    "    self.sigma = self.env.sigma  # reward noise\n",
    "\n",
    "    # sufficient statistics\n",
    "    self.B = np.zeros(self.d) # sum of observed rewards for each arm\n",
    "    self.n_i = np.zeros(self.K) # n_i is a list containing the number of pulls of each arm\n",
    "\n",
    "  def update(self, arm, r):\n",
    "    # update sufficient statistics\n",
    "    self.B += r * self.actions_matrix[arm]\n",
    "    self.n_i[arm] += 1\n",
    "    \n",
    "  def get_arm(self):\n",
    "    # compute posterior means\n",
    "\n",
    "    somme_helper = 0\n",
    "    for i in range(self.K) :\n",
    "       somme_helper += self.n_i[i] * np.outer(self.actions_matrix[i], self.actions_matrix[i])\n",
    "    \n",
    "    Sigma_hat_helper = self.Sigma_0_inv + somme_helper / self.sigma**2\n",
    "    Sigma_hat = np.linalg.inv(Sigma_hat_helper) \n",
    "    mu_hat = Sigma_hat @ ( self.Sigma_0_inv @ self.mu_0 + self.B / self.sigma**2 )\n",
    "\n",
    "    self.mu = np.random.multivariate_normal(mu_hat, Sigma_hat) # TODO : cholesky decomposition for quicker computation ?\n",
    "    arm = np.argmax([self.mu.T @ self.actions_matrix[i] for i in range(self.K)])\n",
    "    return arm\n",
    "\n",
    "  @staticmethod\n",
    "  def print():\n",
    "    return \"LinTS\""
   ]
  },
  {
   "cell_type": "code",
   "execution_count": 14,
   "metadata": {
    "tags": []
   },
   "outputs": [],
   "source": [
    "# BAI algorithm with different values of sigma_{0, i} and that learns the allocations n_i by running TS in a warm-up phase\n",
    "class BAILinTS:\n",
    "  def __init__(self, env, n):\n",
    "    self.env = env  # bandit environment that the agent interacts with\n",
    "    self.actions_matrix = self.env.actions_matrix\n",
    "    self.K, self.d = np.shape(self.actions_matrix) # number of arms\n",
    "    self.n_ts = self.env.n_ts # TS exploration budget\n",
    "    self.n = n - self.n_ts # budget TODO: check if it does not affect anything\n",
    "    self.mu_0 = np.copy(env.mu_0)  # list of prior means \\mu_{0, i} for i=1,..., K\n",
    "    self.Sigma_0 = np.copy(env.Sigma_0)  # list of prior standard deviations \\sigma_{0, i} for i=1,..., K\n",
    "    self.Sigma_0_inv = np.copy(env.Sigma_0_inv)\n",
    "    self.sigma = self.env.sigma  # reward noise\n",
    "            \n",
    "    ts_alg = LinTS(self.env, self.n_ts)\n",
    "    for _ in range(self.n_ts):\n",
    "        arm = ts_alg.get_arm()\n",
    "        ts_alg.update(arm, env.reward(arm))\n",
    "    self.w_LinTS = ts_alg.n_i / self.n_ts  \n",
    "    self.n_samples = np.random.multinomial(self.n, self.w_LinTS)\n",
    "\n",
    "    # sufficient statistics\n",
    "    self.B = np.zeros(self.d) # sum of observed rewards for each arm\n",
    "    self.n_i = np.zeros(self.K) # n_i is a list containing the number of pulls of each arm\n",
    "\n",
    "  def update(self, arm, r):\n",
    "    # update sufficient statistics\n",
    "    self.B += r * self.actions_matrix[arm]\n",
    "    self.n_i[arm] += 1\n",
    "\n",
    "  def explore(self, n):\n",
    "    # explore actions\n",
    "    for i in range(self.K):\n",
    "        for t in range(self.n_samples[i]):\n",
    "            #self.env.randomize()\n",
    "            # update statistics\n",
    "            self.update(i, self.env.reward(i))\n",
    "  \n",
    "  def get_best_arm(self):\n",
    "    # compute posterior means\n",
    "    self.mu = np.zeros(self.K)\n",
    "    # arm parameter posterior\n",
    "    somme_helper = 0\n",
    "    for i in range(self.K) :\n",
    "       somme_helper+= self.n_i[i] * np.outer(self.actions_matrix[i], self.actions_matrix[i])\n",
    "    \n",
    "    Sigma_hat_helper = self.Sigma_0_inv + somme_helper / self.sigma**2\n",
    "    sigma_hat_square = np.linalg.inv(Sigma_hat_helper) \n",
    "    self.mu = sigma_hat_square @ ( self.Sigma_0_inv @ self.mu_0 + self.B / self.sigma**2 )\n",
    "    arm = np.argmax([self.mu.T @ self.actions_matrix[i] for i in range(self.K)])\n",
    "    return arm\n",
    "\n",
    "  @staticmethod\n",
    "  def print():\n",
    "    return \"BAI-LinTS\""
   ]
  },
  {
   "cell_type": "code",
   "execution_count": 15,
   "metadata": {
    "tags": []
   },
   "outputs": [],
   "source": [
    "# BAI algorithm that assumes that sigma_0 is the same for all arms and allocates n_i = n//K for each arm\n",
    "class BayesGap:\n",
    "  \"\"\"\n",
    "  Some parts of the code have been derived from https://github.com/Azizimj/StructuredBAI/blob/main/StructBAI.py\n",
    "  \"\"\"\n",
    "  def __init__(self, env, n):\n",
    "    self.env = env  # bandit environment that the agent interacts with\n",
    "    self.actions_matrix = self.env.actions_matrix  # number of arms\n",
    "    self.K, self.d = np.shape(self.actions_matrix)\n",
    "    self.n = n  # budget\n",
    "    self.mu_0 = np.copy(env.mu_0)  # list of prior means \\mu_{0, i} for i=1,..., K\n",
    "    self.Sigma_0 = np.copy(env.Sigma_0)  # list of prior standard deviations \\sigma_{0, i} for i=1,..., K\n",
    "    self.Sigma_0_inv = np.copy(env.Sigma_0_inv)\n",
    "    self.sigma = self.env.sigma  # reward noise\n",
    "\n",
    "    self.eta = np.sqrt(np.mean(np.diag(self.Sigma_0))) # FIRST ASSUME DIAGONAL COVARIANCE\n",
    "    self.epsilon = 1e-5 # very small because we minimize PoE.\n",
    "    self.kappa = np.sum([ 1/np.linalg.norm(self.actions_matrix[i], 2)**2 for i in range(self.K) ])\n",
    "\n",
    "    # sufficient statistics\n",
    "    self.B = np.zeros(self.d) # sum of observed rewards for each arm\n",
    "    self.n_i = np.zeros(self.K) # n_i is a list containing the number of pulls of each arm\n",
    "    self.hist_Jt, self.hist_jt = [], []\n",
    "    self.recom, self.recom_BJt = None, float('inf')\n",
    "\n",
    "  def update(self, arm, r):\n",
    "    # update sufficient statistics\n",
    "    self.B += r * self.actions_matrix[arm]\n",
    "    self.n_i[arm] += 1\n",
    "    \n",
    "  def explore(self, n):\n",
    "    # explore actions\n",
    "    for t in range(self.K) :\n",
    "      self.update(t, self.env.reward(t))\n",
    "\n",
    "    for t in range(self.n - self.K) :\n",
    "\n",
    "      self.compute_posterior()\n",
    "      j_t, J_t = self.compute_BayesGap_params()\n",
    "      \n",
    "      a_t = J_t if self.s_t[J_t] >= self.s_t[j_t] else j_t\n",
    "      self.update(a_t, self.env.reward(a_t))\n",
    "      \n",
    "  def compute_BayesGap_params(self):\n",
    "\n",
    "    upbs, lowbs = self.mu_hat + 3 * np.sqrt(self.sigma2_hat), self.mu_hat - 3 * np.sqrt(self.sigma2_hat)\n",
    "    upbs_argmax = np.argmax(upbs)\n",
    "    second_best_tmp_1 = np.sort(upbs, axis=0)[-2]\n",
    "    delta_hats = [upbs[upbs_argmax]-lowbs[i] for i in range(self.K)]\n",
    "    delta_hats[upbs_argmax] = second_best_tmp_1 - lowbs[upbs_argmax]  # delta for the maximizer of upbs\n",
    "    H_epsilon = np.sum([ 1/(max(0.5*(delta_hats[i]+self.epsilon),self.epsilon))**2 for i in range(self.K)])\n",
    "    #bseeta = beta_numerator/Heps\n",
    "    self.beta = np.sqrt(( (self.n - self.K)/(self.sigma**2) + self.kappa/(self.eta**2) ) / (4 * H_epsilon))\n",
    "    \n",
    "    U_t = self.mu_hat + self.beta * np.sqrt(self.sigma2_hat)\n",
    "    L_t = self.mu_hat - self.beta * np.sqrt(self.sigma2_hat)\n",
    "\n",
    "    argmax_U = np.argmax(U_t)\n",
    "    second_best_tmp_2 = np.sort(U_t)[-2]\n",
    "    B_t = [U_t[argmax_U] - L_t[k] for k in range(self.K)]\n",
    "    B_t[argmax_U] = second_best_tmp_2 - L_t[argmax_U]\n",
    "\n",
    "    J_t = np.argmin(B_t)\n",
    "    U_t_tmp = 1*U_t\n",
    "    U_t_tmp[J_t] = -np.inf\n",
    "    j_t = np.argmax(U_t_tmp)\n",
    "    \n",
    "    self.hist_Jt.append(J_t)\n",
    "    self.hist_jt.append(j_t)\n",
    "\n",
    "    self.s_t = 2 * self.beta * np.sqrt(self.sigma2_hat)\n",
    "\n",
    "    if B_t[J_t] < self.recom_BJt:\n",
    "      self.recom, self.recom_BJt = J_t, B_t[J_t]\n",
    "\n",
    "    return j_t, J_t\n",
    "    \n",
    "  def compute_posterior(self):\n",
    "    \n",
    "    # arm parameter posterior\n",
    "    somme_helper = 0\n",
    "    for i in range(self.K) :\n",
    "       somme_helper+= self.n_i[i] * np.outer(self.actions_matrix[i], self.actions_matrix[i])\n",
    "       \n",
    "    Sigma_hat_helper = self.Sigma_0_inv + somme_helper / self.sigma**2\n",
    "    Sigma_hat = np.linalg.inv(Sigma_hat_helper) \n",
    "    self.theta_hat = Sigma_hat @ ( self.Sigma_0_inv @ self.mu_0 + self.B / self.sigma**2 )\n",
    "    self.mu_hat = np.array([self.theta_hat.T @ self.actions_matrix[i] for i in range(self.K)])\n",
    "    self.sigma2_hat = np.array([self.actions_matrix[i].T @ Sigma_hat @ self.actions_matrix[i] for i in range(self.K)])\n",
    "  \n",
    "  def get_best_arm(self):\n",
    "    # compute posterior means\n",
    "    if self.recom == None :\n",
    "      print(\"FLAG\") # sanity check\n",
    "    return self.recom if self.recom != None else -1\n",
    "\n",
    "  @staticmethod\n",
    "  def print():\n",
    "    return \"BayesGap\""
   ]
  },
  {
   "cell_type": "code",
   "execution_count": 18,
   "metadata": {
    "tags": []
   },
   "outputs": [
    {
     "data": {
      "application/vnd.jupyter.widget-view+json": {
       "model_id": "63fb52ff260e4608a001fb003c72f477",
       "version_major": 2,
       "version_minor": 0
      },
      "text/plain": [
       "  0%|          | 0/20 [00:00<?, ?it/s]"
      ]
     },
     "metadata": {},
     "output_type": "display_data"
    },
    {
     "name": "stdout",
     "output_type": "stream",
     "text": [
      "2.748 0.879 0.829 0.820 0.817 0.815 0.815 0.814 0.814 0.813 0.813 0.813 0.813 0.813 0.813 0.812 0.812 0.812 0.812 0.812 \n",
      "Movie means    : 1.076 -1.203 -0.592 -1.935 0.940\n",
      "Movie variances: 0.344 0.392 0.352 0.803 0.549\n"
     ]
    }
   ],
   "source": [
    "def ALS(M, W, d, num_iter=20):\n",
    "  num_rows = M.shape[0]\n",
    "  num_cols = M.shape[1]\n",
    "  U = 2 * np.random.rand(num_rows, d) - 1\n",
    "  V = 2 * np.random.rand(num_cols, d) - 1\n",
    "  \n",
    "  reg = 1.0\n",
    "  for iter in tqdm(range(num_iter)):\n",
    "    for i in range(num_rows):\n",
    "      sel = np.flatnonzero(W[i, :])\n",
    "      G = V[sel, :].T.dot(V[sel, :]) + reg * np.eye(d)\n",
    "      U[i, :] = np.linalg.solve(G, V[sel, :].T.dot(M[i, sel]))\n",
    "    for j in range(num_cols):\n",
    "      sel = np.flatnonzero(W[:, j])\n",
    "      G = U[sel, :].T.dot(U[sel, :]) + reg * np.eye(d)\n",
    "      V[j, :] = np.linalg.solve(G, U[sel, :].T.dot(M[sel, j]))\n",
    "    print(\"%.3f \" % (np.linalg.norm(W * (M - U.dot(V.T))) / np.sqrt(W.sum())), end=\"\")\n",
    "  print()\n",
    "  \n",
    "  return U, V\n",
    "\n",
    "D = np.loadtxt(\"ratings.txt\")\n",
    "D = D[:, : 3].astype(int)\n",
    "num_users = D[:, 0].max()\n",
    "num_movies = D[:, 1].max()\n",
    "D[:, : 2] = D[:, : 2] - 1\n",
    "\n",
    "M = np.zeros((num_users, num_movies))\n",
    "M[D[:, 0], D[:, 1]] = D[:, 2]\n",
    "W = np.zeros((num_users, num_movies))\n",
    "W[D[:, 0], D[:, 1]] = 1\n",
    "\n",
    "ndx = np.random.permutation(num_users)\n",
    "M = M[ndx, :]\n",
    "W = W[ndx, :]\n",
    "\n",
    "d = 5\n",
    "users, movies = ALS(M, W, d=d)\n",
    "\n",
    "np.random.shuffle(users)\n",
    "np.random.shuffle(movies)\n",
    "\n",
    "mu_movie = movies.mean(axis=0)\n",
    "var_movie = movies.var(axis=0)\n",
    "print(\"Movie means    : %s\" % \" \".join(\"%.3f\" % s for s in mu_movie))\n",
    "print(\"Movie variances: %s\" % \" \".join(\"%.3f\" % s for s in var_movie))"
   ]
  },
  {
   "cell_type": "code",
   "execution_count": 20,
   "metadata": {
    "tags": []
   },
   "outputs": [],
   "source": [
    "mu_user = users.mean(axis=0)\n",
    "var_user = users.var(axis=0)"
   ]
  },
  {
   "cell_type": "code",
   "execution_count": 27,
   "metadata": {},
   "outputs": [
    {
     "data": {
      "text/plain": [
       "6040"
      ]
     },
     "execution_count": 27,
     "metadata": {},
     "output_type": "execute_result"
    }
   ],
   "source": [
    "users.shape[0]"
   ]
  },
  {
   "attachments": {},
   "cell_type": "markdown",
   "metadata": {},
   "source": [
    "## MovieLens experiments"
   ]
  },
  {
   "cell_type": "code",
   "execution_count": 39,
   "metadata": {
    "tags": []
   },
   "outputs": [
    {
     "name": "stdout",
     "output_type": "stream",
     "text": [
      "K = 96\n"
     ]
    },
    {
     "data": {
      "application/vnd.jupyter.widget-view+json": {
       "model_id": "d21bd0c9dad9405f85fc32d897be11a8",
       "version_major": 2,
       "version_minor": 0
      },
      "text/plain": [
       "  0%|          | 0/100 [00:00<?, ?it/s]"
      ]
     },
     "metadata": {},
     "output_type": "display_data"
    },
    {
     "name": "stdout",
     "output_type": "stream",
     "text": [
      "Running experiments with n = 150\n",
      "\n",
      "\n",
      "('BayesGap', 'green', '-', 'BayesGap')\n",
      "('BAILinTS', 'cyan', '-', 'BAI-LinTS')\n",
      "('BAIUniform', 'green', '-', 'BAI-Uni')\n",
      "('BAIOpt', 'black', '-', 'BAI-Opt')\n",
      "('BAIOptimalDesign', 'red', '-', 'BAI-Opt-design')\n",
      "('GSE', 'red', '-', 'GSE')\n"
     ]
    },
    {
     "data": {
      "application/vnd.jupyter.widget-view+json": {
       "model_id": "7c9867addd3f444aabd9a40e6a10bb25",
       "version_major": 2,
       "version_minor": 0
      },
      "text/plain": [
       "  0%|          | 0/100 [00:00<?, ?it/s]"
      ]
     },
     "metadata": {},
     "output_type": "display_data"
    },
    {
     "name": "stdout",
     "output_type": "stream",
     "text": [
      "Running experiments with n = 250\n",
      "\n",
      "\n",
      "('BayesGap', 'green', '-', 'BayesGap')\n",
      "('BAILinTS', 'cyan', '-', 'BAI-LinTS')\n",
      "('BAIUniform', 'green', '-', 'BAI-Uni')\n",
      "('BAIOpt', 'black', '-', 'BAI-Opt')\n",
      "('BAIOptimalDesign', 'red', '-', 'BAI-Opt-design')\n",
      "('GSE', 'red', '-', 'GSE')\n"
     ]
    },
    {
     "data": {
      "application/vnd.jupyter.widget-view+json": {
       "model_id": "7994fe99af5d485ea59dcfd436347365",
       "version_major": 2,
       "version_minor": 0
      },
      "text/plain": [
       "  0%|          | 0/100 [00:00<?, ?it/s]"
      ]
     },
     "metadata": {},
     "output_type": "display_data"
    },
    {
     "name": "stdout",
     "output_type": "stream",
     "text": [
      "Running experiments with n = 350\n",
      "\n",
      "\n",
      "('BayesGap', 'green', '-', 'BayesGap')\n",
      "('BAILinTS', 'cyan', '-', 'BAI-LinTS')\n",
      "('BAIUniform', 'green', '-', 'BAI-Uni')\n",
      "('BAIOpt', 'black', '-', 'BAI-Opt')\n",
      "('BAIOptimalDesign', 'red', '-', 'BAI-Opt-design')\n",
      "('GSE', 'red', '-', 'GSE')\n"
     ]
    },
    {
     "data": {
      "application/vnd.jupyter.widget-view+json": {
       "model_id": "4bb1a2ea67594c6b95747cc1416cfe3d",
       "version_major": 2,
       "version_minor": 0
      },
      "text/plain": [
       "  0%|          | 0/100 [00:00<?, ?it/s]"
      ]
     },
     "metadata": {},
     "output_type": "display_data"
    },
    {
     "name": "stdout",
     "output_type": "stream",
     "text": [
      "Running experiments with n = 450\n",
      "\n",
      "\n",
      "('BayesGap', 'green', '-', 'BayesGap')\n",
      "('BAILinTS', 'cyan', '-', 'BAI-LinTS')\n",
      "('BAIUniform', 'green', '-', 'BAI-Uni')\n",
      "('BAIOpt', 'black', '-', 'BAI-Opt')\n",
      "('BAIOptimalDesign', 'red', '-', 'BAI-Opt-design')\n",
      "('GSE', 'red', '-', 'GSE')\n"
     ]
    },
    {
     "data": {
      "application/vnd.jupyter.widget-view+json": {
       "model_id": "4e15c359c9744aafa6a9fdbf7cec4c83",
       "version_major": 2,
       "version_minor": 0
      },
      "text/plain": [
       "  0%|          | 0/100 [00:00<?, ?it/s]"
      ]
     },
     "metadata": {},
     "output_type": "display_data"
    },
    {
     "name": "stdout",
     "output_type": "stream",
     "text": [
      "Running experiments with n = 550\n",
      "\n",
      "\n",
      "('BayesGap', 'green', '-', 'BayesGap')\n",
      "('BAILinTS', 'cyan', '-', 'BAI-LinTS')\n",
      "('BAIUniform', 'green', '-', 'BAI-Uni')\n",
      "('BAIOpt', 'black', '-', 'BAI-Opt')\n",
      "('BAIOptimalDesign', 'red', '-', 'BAI-Opt-design')\n",
      "('GSE', 'red', '-', 'GSE')\n"
     ]
    },
    {
     "data": {
      "application/vnd.jupyter.widget-view+json": {
       "model_id": "92234ee093a94b4f84457f87a911b01c",
       "version_major": 2,
       "version_minor": 0
      },
      "text/plain": [
       "  0%|          | 0/100 [00:00<?, ?it/s]"
      ]
     },
     "metadata": {},
     "output_type": "display_data"
    },
    {
     "name": "stdout",
     "output_type": "stream",
     "text": [
      "Running experiments with n = 650\n",
      "\n",
      "\n",
      "('BayesGap', 'green', '-', 'BayesGap')\n",
      "('BAILinTS', 'cyan', '-', 'BAI-LinTS')\n",
      "('BAIUniform', 'green', '-', 'BAI-Uni')\n",
      "('BAIOpt', 'black', '-', 'BAI-Opt')\n",
      "('BAIOptimalDesign', 'red', '-', 'BAI-Opt-design')\n",
      "('GSE', 'red', '-', 'GSE')\n"
     ]
    },
    {
     "data": {
      "application/vnd.jupyter.widget-view+json": {
       "model_id": "c53d0c855ddb4a41b3d4b672bcbcc222",
       "version_major": 2,
       "version_minor": 0
      },
      "text/plain": [
       "  0%|          | 0/100 [00:00<?, ?it/s]"
      ]
     },
     "metadata": {},
     "output_type": "display_data"
    },
    {
     "name": "stdout",
     "output_type": "stream",
     "text": [
      "Running experiments with n = 750\n",
      "\n",
      "\n",
      "('BayesGap', 'green', '-', 'BayesGap')\n",
      "('BAILinTS', 'cyan', '-', 'BAI-LinTS')\n",
      "('BAIUniform', 'green', '-', 'BAI-Uni')\n",
      "('BAIOpt', 'black', '-', 'BAI-Opt')\n",
      "('BAIOptimalDesign', 'red', '-', 'BAI-Opt-design')\n",
      "('GSE', 'red', '-', 'GSE')\n"
     ]
    },
    {
     "data": {
      "application/vnd.jupyter.widget-view+json": {
       "model_id": "085294190de04eb5904ce8e2989b9e63",
       "version_major": 2,
       "version_minor": 0
      },
      "text/plain": [
       "  0%|          | 0/100 [00:00<?, ?it/s]"
      ]
     },
     "metadata": {},
     "output_type": "display_data"
    },
    {
     "name": "stdout",
     "output_type": "stream",
     "text": [
      "Running experiments with n = 850\n",
      "\n",
      "\n",
      "('BayesGap', 'green', '-', 'BayesGap')\n",
      "('BAILinTS', 'cyan', '-', 'BAI-LinTS')\n",
      "('BAIUniform', 'green', '-', 'BAI-Uni')\n",
      "('BAIOpt', 'black', '-', 'BAI-Opt')\n",
      "('BAIOptimalDesign', 'red', '-', 'BAI-Opt-design')\n",
      "('GSE', 'red', '-', 'GSE')\n"
     ]
    },
    {
     "data": {
      "application/vnd.jupyter.widget-view+json": {
       "model_id": "2c4e70877287466998d996a78cc34059",
       "version_major": 2,
       "version_minor": 0
      },
      "text/plain": [
       "  0%|          | 0/100 [00:00<?, ?it/s]"
      ]
     },
     "metadata": {},
     "output_type": "display_data"
    },
    {
     "name": "stdout",
     "output_type": "stream",
     "text": [
      "Running experiments with n = 950\n",
      "\n",
      "\n",
      "('BayesGap', 'green', '-', 'BayesGap')\n",
      "('BAILinTS', 'cyan', '-', 'BAI-LinTS')\n",
      "('BAIUniform', 'green', '-', 'BAI-Uni')\n",
      "('BAIOpt', 'black', '-', 'BAI-Opt')\n",
      "('BAIOptimalDesign', 'red', '-', 'BAI-Opt-design')\n",
      "('GSE', 'red', '-', 'GSE')\n"
     ]
    },
    {
     "data": {
      "application/vnd.jupyter.widget-view+json": {
       "model_id": "843ff7cc9e294ac5b5163e791c90e547",
       "version_major": 2,
       "version_minor": 0
      },
      "text/plain": [
       "  0%|          | 0/100 [00:00<?, ?it/s]"
      ]
     },
     "metadata": {},
     "output_type": "display_data"
    },
    {
     "name": "stdout",
     "output_type": "stream",
     "text": [
      "Running experiments with n = 1050\n",
      "\n",
      "\n",
      "('BayesGap', 'green', '-', 'BayesGap')\n",
      "('BAILinTS', 'cyan', '-', 'BAI-LinTS')\n",
      "('BAIUniform', 'green', '-', 'BAI-Uni')\n",
      "('BAIOpt', 'black', '-', 'BAI-Opt')\n",
      "('BAIOptimalDesign', 'red', '-', 'BAI-Opt-design')\n",
      "('GSE', 'red', '-', 'GSE')\n"
     ]
    },
    {
     "data": {
      "application/vnd.jupyter.widget-view+json": {
       "model_id": "3b9f258a5b5a47c38fa28e72f7c220a8",
       "version_major": 2,
       "version_minor": 0
      },
      "text/plain": [
       "  0%|          | 0/100 [00:00<?, ?it/s]"
      ]
     },
     "metadata": {},
     "output_type": "display_data"
    },
    {
     "name": "stdout",
     "output_type": "stream",
     "text": [
      "Running experiments with n = 1150\n",
      "\n",
      "\n",
      "('BayesGap', 'green', '-', 'BayesGap')\n",
      "('BAILinTS', 'cyan', '-', 'BAI-LinTS')\n",
      "('BAIUniform', 'green', '-', 'BAI-Uni')\n",
      "('BAIOpt', 'black', '-', 'BAI-Opt')\n",
      "('BAIOptimalDesign', 'red', '-', 'BAI-Opt-design')\n",
      "('GSE', 'red', '-', 'GSE')\n"
     ]
    },
    {
     "data": {
      "application/vnd.jupyter.widget-view+json": {
       "model_id": "26e5eab5831742d3acfb976a5f3b2d43",
       "version_major": 2,
       "version_minor": 0
      },
      "text/plain": [
       "  0%|          | 0/100 [00:00<?, ?it/s]"
      ]
     },
     "metadata": {},
     "output_type": "display_data"
    },
    {
     "name": "stdout",
     "output_type": "stream",
     "text": [
      "Running experiments with n = 1250\n",
      "\n",
      "\n",
      "('BayesGap', 'green', '-', 'BayesGap')\n",
      "('BAILinTS', 'cyan', '-', 'BAI-LinTS')\n",
      "('BAIUniform', 'green', '-', 'BAI-Uni')\n",
      "('BAIOpt', 'black', '-', 'BAI-Opt')\n",
      "('BAIOptimalDesign', 'red', '-', 'BAI-Opt-design')\n",
      "('GSE', 'red', '-', 'GSE')\n"
     ]
    },
    {
     "data": {
      "application/vnd.jupyter.widget-view+json": {
       "model_id": "d323a0f19018474790d3bd769f2f3f07",
       "version_major": 2,
       "version_minor": 0
      },
      "text/plain": [
       "  0%|          | 0/100 [00:00<?, ?it/s]"
      ]
     },
     "metadata": {},
     "output_type": "display_data"
    },
    {
     "name": "stdout",
     "output_type": "stream",
     "text": [
      "Running experiments with n = 1350\n",
      "\n",
      "\n",
      "('BayesGap', 'green', '-', 'BayesGap')\n",
      "('BAILinTS', 'cyan', '-', 'BAI-LinTS')\n",
      "('BAIUniform', 'green', '-', 'BAI-Uni')\n",
      "('BAIOpt', 'black', '-', 'BAI-Opt')\n",
      "('BAIOptimalDesign', 'red', '-', 'BAI-Opt-design')\n",
      "('GSE', 'red', '-', 'GSE')\n"
     ]
    },
    {
     "data": {
      "application/vnd.jupyter.widget-view+json": {
       "model_id": "8a98197732a34640bf42a268b0576f71",
       "version_major": 2,
       "version_minor": 0
      },
      "text/plain": [
       "  0%|          | 0/100 [00:00<?, ?it/s]"
      ]
     },
     "metadata": {},
     "output_type": "display_data"
    },
    {
     "name": "stdout",
     "output_type": "stream",
     "text": [
      "Running experiments with n = 1450\n",
      "\n",
      "\n",
      "('BayesGap', 'green', '-', 'BayesGap')\n",
      "('BAILinTS', 'cyan', '-', 'BAI-LinTS')\n",
      "('BAIUniform', 'green', '-', 'BAI-Uni')\n",
      "('BAIOpt', 'black', '-', 'BAI-Opt')\n",
      "('BAIOptimalDesign', 'red', '-', 'BAI-Opt-design')\n",
      "('GSE', 'red', '-', 'GSE')\n"
     ]
    },
    {
     "data": {
      "application/vnd.jupyter.widget-view+json": {
       "model_id": "95c9f77b725245eca5470a95cf86b34e",
       "version_major": 2,
       "version_minor": 0
      },
      "text/plain": [
       "  0%|          | 0/100 [00:00<?, ?it/s]"
      ]
     },
     "metadata": {},
     "output_type": "display_data"
    },
    {
     "name": "stdout",
     "output_type": "stream",
     "text": [
      "Running experiments with n = 1550\n",
      "\n",
      "\n",
      "('BayesGap', 'green', '-', 'BayesGap')\n",
      "('BAILinTS', 'cyan', '-', 'BAI-LinTS')\n",
      "('BAIUniform', 'green', '-', 'BAI-Uni')\n",
      "('BAIOpt', 'black', '-', 'BAI-Opt')\n",
      "('BAIOptimalDesign', 'red', '-', 'BAI-Opt-design')\n",
      "('GSE', 'red', '-', 'GSE')\n"
     ]
    },
    {
     "data": {
      "application/vnd.jupyter.widget-view+json": {
       "model_id": "1eebf2a9b92542b898dd500ce61876ab",
       "version_major": 2,
       "version_minor": 0
      },
      "text/plain": [
       "  0%|          | 0/100 [00:00<?, ?it/s]"
      ]
     },
     "metadata": {},
     "output_type": "display_data"
    },
    {
     "name": "stdout",
     "output_type": "stream",
     "text": [
      "Running experiments with n = 1650\n",
      "\n",
      "\n",
      "('BayesGap', 'green', '-', 'BayesGap')\n",
      "('BAILinTS', 'cyan', '-', 'BAI-LinTS')\n",
      "('BAIUniform', 'green', '-', 'BAI-Uni')\n",
      "('BAIOpt', 'black', '-', 'BAI-Opt')\n",
      "('BAIOptimalDesign', 'red', '-', 'BAI-Opt-design')\n",
      "('GSE', 'red', '-', 'GSE')\n"
     ]
    },
    {
     "data": {
      "application/vnd.jupyter.widget-view+json": {
       "model_id": "79519cb86e864a05894b693c6e7ae701",
       "version_major": 2,
       "version_minor": 0
      },
      "text/plain": [
       "  0%|          | 0/100 [00:00<?, ?it/s]"
      ]
     },
     "metadata": {},
     "output_type": "display_data"
    },
    {
     "name": "stdout",
     "output_type": "stream",
     "text": [
      "Running experiments with n = 1750\n",
      "\n",
      "\n",
      "('BayesGap', 'green', '-', 'BayesGap')\n",
      "('BAILinTS', 'cyan', '-', 'BAI-LinTS')\n",
      "('BAIUniform', 'green', '-', 'BAI-Uni')\n",
      "('BAIOpt', 'black', '-', 'BAI-Opt')\n",
      "('BAIOptimalDesign', 'red', '-', 'BAI-Opt-design')\n",
      "('GSE', 'red', '-', 'GSE')\n"
     ]
    },
    {
     "data": {
      "application/vnd.jupyter.widget-view+json": {
       "model_id": "35318b9e82af4ab4abd42cc5ee91728d",
       "version_major": 2,
       "version_minor": 0
      },
      "text/plain": [
       "  0%|          | 0/100 [00:00<?, ?it/s]"
      ]
     },
     "metadata": {},
     "output_type": "display_data"
    },
    {
     "name": "stdout",
     "output_type": "stream",
     "text": [
      "Running experiments with n = 1850\n",
      "\n",
      "\n",
      "('BayesGap', 'green', '-', 'BayesGap')\n",
      "('BAILinTS', 'cyan', '-', 'BAI-LinTS')\n",
      "('BAIUniform', 'green', '-', 'BAI-Uni')\n",
      "('BAIOpt', 'black', '-', 'BAI-Opt')\n",
      "('BAIOptimalDesign', 'red', '-', 'BAI-Opt-design')\n",
      "('GSE', 'red', '-', 'GSE')\n"
     ]
    },
    {
     "data": {
      "application/vnd.jupyter.widget-view+json": {
       "model_id": "f7c715102d96495baf44c7c2c077fea0",
       "version_major": 2,
       "version_minor": 0
      },
      "text/plain": [
       "  0%|          | 0/100 [00:00<?, ?it/s]"
      ]
     },
     "metadata": {},
     "output_type": "display_data"
    },
    {
     "name": "stdout",
     "output_type": "stream",
     "text": [
      "Running experiments with n = 1950\n",
      "\n",
      "\n",
      "('BayesGap', 'green', '-', 'BayesGap')\n",
      "('BAILinTS', 'cyan', '-', 'BAI-LinTS')\n",
      "('BAIUniform', 'green', '-', 'BAI-Uni')\n",
      "('BAIOpt', 'black', '-', 'BAI-Opt')\n",
      "('BAIOptimalDesign', 'red', '-', 'BAI-Opt-design')\n",
      "('GSE', 'red', '-', 'GSE')\n"
     ]
    },
    {
     "data": {
      "text/plain": [
       "<matplotlib.legend.Legend at 0x7fd0286e0880>"
      ]
     },
     "execution_count": 39,
     "metadata": {},
     "output_type": "execute_result"
    },
    {
     "data": {
      "image/png": "[encoded data removed]",
      "text/plain": [
       "<Figure size 400x240 with 1 Axes>"
      ]
     },
     "metadata": {},
     "output_type": "display_data"
    }
   ],
   "source": [
    "np.random.seed(0)\n",
    "random.seed(0)\n",
    "\n",
    "sigma = 1 # observation noise\n",
    "num_runs = 10000 # number of experiments\n",
    "\n",
    "K = 100\n",
    "\n",
    "sub = np.random.randint(movies.shape[0], size=K)\n",
    "action_matrix = movies[sub, :]\n",
    "action_matrix = action_matrix[~np.all(action_matrix == 0, axis=1)]\n",
    "K, _ = np.shape(action_matrix)\n",
    "print(f'K = {K}')\n",
    "\n",
    "algs = [\n",
    "  #(\"LinearExploration\", \"pink\", '-',\"LinearExploration\"),\n",
    "  #(\"OD_LinBAI\", \"yellow\", '-',\"OD-LinBAI\"),\n",
    "  (\"BayesGap\", \"green\", '-',\"BayesGap\"),\n",
    "  (\"BAILinTS\", \"cyan\", \"-\", \"BAI-LinTS\"),\n",
    "  (\"BAIUniform\", \"green\", \"-\", \"BAI-Uni\"),\n",
    "  (\"BAIOpt\", \"black\", \"-\", \"BAI-Opt\"),\n",
    "  (\"BAIOptimalDesign\", \"red\", \"-\", \"BAI-Opt-design\"),\n",
    "  (\"GSE\", \"red\", \"-\", \"GSE\"),\n",
    "]\n",
    "\n",
    "exps = [\n",
    "  {\"K\":K}\n",
    "]\n",
    "\n",
    "budgets_ = np.arange(150, 2000, 100)\n",
    "\n",
    "for exp in exps:\n",
    "  \n",
    "  # set parameters of the experiment\n",
    "  for attr, val in exp.items():\n",
    "    globals()[attr] = val\n",
    "  results_ = defaultdict(list)\n",
    "\n",
    "  mu_0 = mu_user \n",
    "  Sigma_0 = np.diag(var_user)\n",
    "  Sigma_0_inv = np.linalg.inv(Sigma_0)\n",
    "\n",
    "  for n in budgets_:\n",
    "      \n",
    "      # Allocation by optimization\n",
    "      w_optim = compute_w_opt(sigma, mu_0, Sigma_0, action_matrix, n, alpha=0.3, num_MC=100) \n",
    "      w_optim /= w_optim.sum()\n",
    "      #print(np.round(w_optim, 1))\n",
    "\n",
    "      # Allocation by optimal design\n",
    "      w_optimal_design = BG_opt(n, K, action_matrix, Sigma_0_inv, sigma).astype(float)\n",
    "      w_optimal_design /= w_optimal_design.sum()\n",
    "\n",
    "      n_ts = K  # warm-up rounds for TS\n",
    "\n",
    "      print('Running experiments with n =', n)\n",
    "      #print('warm up phase = ', n_ts)\n",
    "      print('\\n')\n",
    "            \n",
    "      # bandit environments\n",
    "      envs = []\n",
    "      for run in range(num_runs):\n",
    "        # generate arm means \n",
    "        theta = users[np.random.randint(users.shape[0], size=1), :].reshape(-1)\n",
    "\n",
    "        # initialize bandit environment\n",
    "        env = LinearBanditEnvironment(action_matrix, theta, sigma)\n",
    "\n",
    "        # pass parameters for algorithm initialization (not used in simulation)\n",
    "        env.mu_0 = np.copy(mu_0)\n",
    "        env.Sigma_0 = np.copy(Sigma_0)\n",
    "        env.Sigma_0_inv = np.copy(Sigma_0_inv)\n",
    "        env.n_ts = n_ts\n",
    "        env.w_optimal_design = w_optimal_design\n",
    "        env.w_optim = w_optim\n",
    "        envs.append(env)\n",
    "\n",
    "      # simulation\n",
    "      for alg in algs:\n",
    "        print(alg)\n",
    "        # all runs for a single algorithm\n",
    "        alg_class = globals()[alg[0]]\n",
    "        error_prob, error_indicators = evaluate(alg_class, envs, n)\n",
    "        #evaluate_one(alg_class, envs[0], n)\n",
    "        results_[alg[3]].append(error_indicators)\n",
    "\n",
    "np.save('results/movielens_K={}_d={}.npy'.format(K, d), results_)\n",
    "for alg in algs:\n",
    "    plt.plot(budgets_, np.mean(results_[alg[3]], axis=1), label=alg[3])\n",
    "plt.legend()"
   ]
  }
 ],
 "metadata": {
  "colab": {
   "collapsed_sections": [],
   "name": "GenHierTS.ipynb",
   "provenance": []
  },
  "kernelspec": {
   "display_name": "base",
   "language": "python",
   "name": "python3"
  },
  "language_info": {
   "codemirror_mode": {
    "name": "ipython",
    "version": 3
   },
   "file_extension": ".py",
   "mimetype": "text/x-python",
   "name": "python",
   "nbconvert_exporter": "python",
   "pygments_lexer": "ipython3",
   "version": "3.9.13"
  },
  "vscode": {
   "interpreter": {
    "hash": "662c8e0b62a7efc2d05f2499bcc784ce4e091daa11f92a0001f8c7293a4c0e50"
   }
  }
 },
 "nbformat": 4,
 "nbformat_minor": 4
}
